{
 "cells": [
  {
   "cell_type": "code",
   "execution_count": 8,
   "metadata": {},
   "outputs": [
    {
     "name": "stdout",
     "output_type": "stream",
     "text": [
      "✅ Downloaded: E:\\python projects\\self-corrective-rag-llamaindex\\data\\posts\\2023-06-23-agent.html\n",
      "✅ Downloaded: E:\\python projects\\self-corrective-rag-llamaindex\\data\\posts\\2023-03-15-prompt-engineering.html\n",
      "✅ Downloaded: E:\\python projects\\self-corrective-rag-llamaindex\\data\\posts\\2023-10-25-adv-attack-llm.html\n"
     ]
    }
   ],
   "source": [
    "import os\n",
    "import requests\n",
    "\n",
    "# List of URLs to download\n",
    "urls = [\n",
    "    \"https://lilianweng.github.io/posts/2023-06-23-agent/\",\n",
    "    \"https://lilianweng.github.io/posts/2023-03-15-prompt-engineering/\",\n",
    "    \"https://lilianweng.github.io/posts/2023-10-25-adv-attack-llm/\",\n",
    "]\n",
    "\n",
    "# Folder to save downloaded HTML files\n",
    "save_folder = \"E:\\python projects\\self-corrective-rag-llamaindex\\data\\posts\"\n",
    "os.makedirs(save_folder, exist_ok=True)\n",
    "\n",
    "# Function to download and save each webpage\n",
    "for url in urls:\n",
    "    file_name = url.split(\"/\")[-2] + \".html\"  # Extracts a readable filename from the URL\n",
    "    save_path = os.path.join(save_folder, file_name)\n",
    "\n",
    "    # Check if the file already exists\n",
    "    if os.path.exists(save_path):\n",
    "        print(f\"✅ File already exists: {save_path}\")\n",
    "        continue\n",
    "\n",
    "    # Download the webpage\n",
    "    response = requests.get(url)\n",
    "    if response.status_code == 200:\n",
    "        with open(save_path, \"w\", encoding=\"utf-8\") as file:\n",
    "            file.write(response.text)\n",
    "        print(f\"✅ Downloaded: {save_path}\")\n",
    "    else:\n",
    "        print(f\"❌ Failed to download {url} - Status Code: {response.status_code}\")\n"
   ]
  },
  {
   "cell_type": "code",
   "execution_count": 6,
   "metadata": {},
   "outputs": [
    {
     "name": "stdout",
     "output_type": "stream",
     "text": [
      "✅ Paper downloaded: E:\\python projects\\self-corrective-rag-llamaindex\\data\\papers\\2401.18059.pdf\n"
     ]
    }
   ],
   "source": [
    "# !wget https://arxiv.org/pdf/2401.18059.pdf -O ./raptor_paper.pdf\n",
    "import os\n",
    "import requests\n",
    "\n",
    "# Set arXiv paper ID and folder\n",
    "paper_id = \"2401.18059\"  # Replace with the desired paper ID\n",
    "save_folder = \"E:\\python projects\\self-corrective-rag-llamaindex\\data\\papers\"\n",
    "\n",
    "# Create folder if it doesn't exist\n",
    "os.makedirs(save_folder, exist_ok=True)\n",
    "\n",
    "# Define file path\n",
    "save_path = os.path.join(save_folder, f\"{paper_id}.pdf\")\n",
    "\n",
    "# Check if the file already exists\n",
    "if os.path.exists(save_path):\n",
    "    print(f\"✅ Paper already exists: {save_path}\")\n",
    "else:\n",
    "    # Define download URL\n",
    "    pdf_url = f\"https://arxiv.org/pdf/{paper_id}.pdf\"\n",
    "\n",
    "    # Download the paper\n",
    "    response = requests.get(pdf_url)\n",
    "    if response.status_code == 200:\n",
    "        with open(save_path, \"wb\") as file:\n",
    "            file.write(response.content)\n",
    "        print(f\"✅ Paper downloaded: {save_path}\")\n",
    "    else:\n",
    "        print(f\"❌ Failed to download paper. Status Code: {response.status_code}\")\n"
   ]
  }
 ],
 "metadata": {
  "kernelspec": {
   "display_name": ".venv",
   "language": "python",
   "name": "python3"
  },
  "language_info": {
   "codemirror_mode": {
    "name": "ipython",
    "version": 3
   },
   "file_extension": ".py",
   "mimetype": "text/x-python",
   "name": "python",
   "nbconvert_exporter": "python",
   "pygments_lexer": "ipython3",
   "version": "3.11.0"
  }
 },
 "nbformat": 4,
 "nbformat_minor": 2
}
